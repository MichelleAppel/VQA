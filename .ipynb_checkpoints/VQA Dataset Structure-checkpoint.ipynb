{
 "cells": [
  {
   "cell_type": "markdown",
   "metadata": {},
   "source": [
    "# Visual Qustion Answering Dataset"
   ]
  },
  {
   "cell_type": "markdown",
   "metadata": {},
   "source": [
    "VQA Homepage http://visualqa.org/download.html\n",
    "\n",
    "Annotations taken from [Training annotations 2017 v2.0](http://visualqa.org/data/mscoco/vqa/v2_Annotations_Train_mscoco.zip)\n",
    "\n",
    "Questions taken from [Training questions 2017 v2.0](http://visualqa.org/data/mscoco/vqa/v2_Questions_Train_mscoco.zip)"
   ]
  },
  {
   "cell_type": "markdown",
   "metadata": {},
   "source": [
    "![title](img/vqa_examples.jpg)"
   ]
  },
  {
   "cell_type": "code",
   "execution_count": 33,
   "metadata": {
    "collapsed": true
   },
   "outputs": [],
   "source": [
    "import json\n",
    "import zipfile\n",
    "import random\n",
    "import numpy as np\n",
    "from collections import Counter, defaultdict\n",
    "from time import time\n",
    "from IPython.display import Image"
   ]
  },
  {
   "cell_type": "code",
   "execution_count": 5,
   "metadata": {},
   "outputs": [],
   "source": [
    "with zipfile.ZipFile('data/v2_Questions_Train_mscoco.zip', 'r') as file:\n",
    "    qdata = json.load(file.open(file.namelist()[0]))\n",
    "\n",
    "with zipfile.ZipFile('data/v2_Annotations_Train_mscoco.zip', 'r') as file:\n",
    "    adata = json.load(file.open(file.namelist()[0])) "
   ]
  },
  {
   "cell_type": "markdown",
   "metadata": {},
   "source": [
    "### Preprocessing"
   ]
  },
  {
   "cell_type": "markdown",
   "metadata": {},
   "source": [
    "* Spelling correction (using Bing Speller) of question and answer strings\n",
    "* Question normalization (first char uppercase, last char ‘?’)\n",
    "* Answer normalization (all chars lowercase, no period except as decimal point, number words —> digits, strip articles (a, an the))\n",
    "* Adding apostrophe if a contraction is missing it (e.g., convert \"dont\" to \"don't\")"
   ]
  },
  {
   "cell_type": "markdown",
   "metadata": {},
   "source": [
    "## Data Exploration"
   ]
  },
  {
   "cell_type": "markdown",
   "metadata": {},
   "source": [
    "### Annotation Data"
   ]
  },
  {
   "cell_type": "code",
   "execution_count": 6,
   "metadata": {},
   "outputs": [
    {
     "name": "stdout",
     "output_type": "stream",
     "text": [
      "# Datapoints:  443757\n",
      "Datapoint keys:  dict_keys(['question_type', 'multiple_choice_answer', 'answers', 'image_id', 'answer_type', 'question_id'])\n"
     ]
    }
   ],
   "source": [
    "print(\"# Datapoints: \", len(adata['annotations']))\n",
    "print(\"Datapoint keys: \", adata['annotations'][0].keys())"
   ]
  },
  {
   "cell_type": "markdown",
   "metadata": {},
   "source": [
    "Let's look at some datapoints:"
   ]
  },
  {
   "cell_type": "code",
   "execution_count": 7,
   "metadata": {},
   "outputs": [
    {
     "name": "stdout",
     "output_type": "stream",
     "text": [
      "#1:  {'question_type': 'what is this', 'multiple_choice_answer': 'net', 'answers': [{'answer': 'net', 'answer_confidence': 'maybe', 'answer_id': 1}, {'answer': 'net', 'answer_confidence': 'yes', 'answer_id': 2}, {'answer': 'net', 'answer_confidence': 'yes', 'answer_id': 3}, {'answer': 'netting', 'answer_confidence': 'yes', 'answer_id': 4}, {'answer': 'net', 'answer_confidence': 'yes', 'answer_id': 5}, {'answer': 'net', 'answer_confidence': 'yes', 'answer_id': 6}, {'answer': 'mesh', 'answer_confidence': 'maybe', 'answer_id': 7}, {'answer': 'net', 'answer_confidence': 'yes', 'answer_id': 8}, {'answer': 'net', 'answer_confidence': 'yes', 'answer_id': 9}, {'answer': 'net', 'answer_confidence': 'yes', 'answer_id': 10}], 'image_id': 458752, 'answer_type': 'other', 'question_id': 458752000}\n",
      "\n",
      "#2:  {'question_type': 'what', 'multiple_choice_answer': 'pitcher', 'answers': [{'answer': 'pitcher', 'answer_confidence': 'yes', 'answer_id': 1}, {'answer': 'catcher', 'answer_confidence': 'no', 'answer_id': 2}, {'answer': 'pitcher', 'answer_confidence': 'yes', 'answer_id': 3}, {'answer': 'pitcher', 'answer_confidence': 'yes', 'answer_id': 4}, {'answer': 'pitcher', 'answer_confidence': 'yes', 'answer_id': 5}, {'answer': 'pitcher', 'answer_confidence': 'yes', 'answer_id': 6}, {'answer': 'pitcher', 'answer_confidence': 'yes', 'answer_id': 7}, {'answer': 'pitcher', 'answer_confidence': 'yes', 'answer_id': 8}, {'answer': 'pitcher', 'answer_confidence': 'yes', 'answer_id': 9}, {'answer': 'pitcher', 'answer_confidence': 'yes', 'answer_id': 10}], 'image_id': 458752, 'answer_type': 'other', 'question_id': 458752001}\n",
      "\n",
      "#3:  {'answer_type': 'other', 'multiple_choice_answer': 'orange', 'answers': [{'answer': 'orange', 'answer_confidence': 'yes', 'answer_id': 1}, {'answer': 'orange', 'answer_confidence': 'yes', 'answer_id': 2}, {'answer': 'orange', 'answer_confidence': 'maybe', 'answer_id': 3}, {'answer': 'orange', 'answer_confidence': 'yes', 'answer_id': 4}, {'answer': 'orange', 'answer_confidence': 'yes', 'answer_id': 5}, {'answer': 'orange', 'answer_confidence': 'yes', 'answer_id': 6}, {'answer': 'orange', 'answer_confidence': 'yes', 'answer_id': 7}, {'answer': 'orange', 'answer_confidence': 'yes', 'answer_id': 8}, {'answer': 'orange', 'answer_confidence': 'yes', 'answer_id': 9}, {'answer': 'orange', 'answer_confidence': 'yes', 'answer_id': 10}], 'image_id': 458752, 'question_type': 'what color is the', 'question_id': 458752002}\n"
     ]
    }
   ],
   "source": [
    "print(\"#1: \", adata['annotations'][0])\n",
    "print(\"\\n#2: \", adata['annotations'][1])\n",
    "print(\"\\n#3: \", adata['annotations'][2])"
   ]
  },
  {
   "cell_type": "markdown",
   "metadata": {},
   "source": [
    "### Question Data"
   ]
  },
  {
   "cell_type": "code",
   "execution_count": 8,
   "metadata": {},
   "outputs": [
    {
     "name": "stdout",
     "output_type": "stream",
     "text": [
      "# Datapoints:  443757\n",
      "\n",
      "Datapoint keys:  dict_keys(['image_id', 'question', 'question_id'])\n"
     ]
    }
   ],
   "source": [
    "print(\"# Datapoints: \", len(qdata['questions']))\n",
    "print(\"\\nDatapoint keys: \", qdata['questions'][0].keys())"
   ]
  },
  {
   "cell_type": "markdown",
   "metadata": {},
   "source": [
    "Let's look at some datapoints"
   ]
  },
  {
   "cell_type": "code",
   "execution_count": 31,
   "metadata": {},
   "outputs": [
    {
     "name": "stdout",
     "output_type": "stream",
     "text": [
      "#1:  458752\n",
      "\n",
      "#2:  {'image_id': 458752, 'question': 'What position is this man playing?', 'question_id': 458752001}\n",
      "\n",
      "#3:  {'image_id': 458752, 'question': 'What color is the players shirt?', 'question_id': 458752002}\n"
     ]
    }
   ],
   "source": [
    "print(\"#1: \", qdata['questions'][0]['image_id'])\n",
    "print(\"\\n#2: \", qdata['questions'][1])\n",
    "print(\"\\n#3: \", qdata['questions'][2])"
   ]
  },
  {
   "cell_type": "code",
   "execution_count": 83,
   "metadata": {},
   "outputs": [
    {
     "data": {
      "image/jpeg": "[encoded data removed]",
      "text/plain": [
       "<IPython.core.display.Image object>"
      ]
     },
     "execution_count": 83,
     "metadata": {},
     "output_type": "execute_result"
    }
   ],
   "source": [
    "with open('data/imgid2imginfo.json', 'r') as file:\n",
    "    imgid2info = json.load(file)\n",
    "\n",
    "# Show image from imgid\n",
    "def show_image(imgid):\n",
    "    return Image(imgid2info[str(imgid)]['flickr_url'])\n",
    "\n",
    "# Get imgage_id from list index\n",
    "def get_imgid_from_index(index):\n",
    "    return qdata['questions'][index]['image_id']\n",
    "\n",
    "\n",
    "image_id = get_imgid_from_index(69) # Example\n",
    "show_image(image_id) # Example"
   ]
  },
  {
   "cell_type": "markdown",
   "metadata": {},
   "source": [
    "### Dataset Statistics"
   ]
  },
  {
   "cell_type": "code",
   "execution_count": 10,
   "metadata": {
    "collapsed": true
   },
   "outputs": [],
   "source": [
    "question_types = set()\n",
    "multiple_choice_answers = set()\n",
    "answer2count = defaultdict(int)\n",
    "answer_types = set()\n",
    "answertypes2count = defaultdict(int)\n",
    "top_answers_per_type = defaultdict(lambda: defaultdict(int))\n",
    "for ann in adata['annotations']:\n",
    "    question_types.add(ann['question_type'])\n",
    "    \n",
    "    multiple_choice_answers.add(ann['multiple_choice_answer'])\n",
    "    \n",
    "    answer2count[ann['multiple_choice_answer']] += 1\n",
    "    answer_types.add(ann['answer_type'])\n",
    "    \n",
    "    answertypes2count[ann['answer_type']] += 1\n",
    "    top_answers_per_type[ann['answer_type']][ann['multiple_choice_answer']] += 1"
   ]
  },
  {
   "cell_type": "markdown",
   "metadata": {},
   "source": [
    "#### Question Types"
   ]
  },
  {
   "cell_type": "code",
   "execution_count": 11,
   "metadata": {},
   "outputs": [
    {
     "name": "stdout",
     "output_type": "stream",
     "text": [
      "# Unique Question Types:  65\n",
      "{'how many', 'is there a', 'could', 'is the person', 'what type of', 'is there', 'do', 'what is the name', 'what sport is', 'are', 'what color is the', 'is the man', 'what kind of', 'what color are the', 'does the', 'are they', 'is this an', 'what color is', 'is it', 'are these', 'does this', 'what number is', 'where are the', 'who is', 'are the', 'was', 'is this person', 'why is the', 'what is the color of the', 'what are', 'what time', 'is he', 'has', 'are there', 'how many people are', 'is this a', 'is the', 'where is the', 'what is the woman', 'what is in the', 'what are the', 'none of the above', 'which', 'are there any', 'what animal is', 'what room is', 'can you', 'what is', 'is the woman', 'is this', 'what brand', 'why', 'what is the', 'is', 'what does the', 'what is the man', 'how many people are in', 'what', 'what is on the', 'do you', 'is that a', 'what is the person', 'how', 'what is this', 'what color'}\n"
     ]
    }
   ],
   "source": [
    "print(\"# Unique Question Types: \", len(question_types))\n",
    "print(question_types)"
   ]
  },
  {
   "cell_type": "markdown",
   "metadata": {},
   "source": [
    "#### Answer Types"
   ]
  },
  {
   "cell_type": "code",
   "execution_count": 12,
   "metadata": {},
   "outputs": [
    {
     "name": "stdout",
     "output_type": "stream",
     "text": [
      "Answer Types:  {'yes/no', 'number', 'other'}\n",
      "Answer Type Counts:  [('other', 219269), ('yes/no', 166882), ('number', 57606)]\n",
      "\n",
      "Type 'yes/no' Top 50 Answers [('yes', 84615), ('no', 82263), ('africa', 1), ('not', 1), ('cutting apples', 1), ('cups', 1)]\n",
      "\n",
      "Type 'number' Top 50 Answers [('1', 12520), ('2', 12194), ('3', 6527), ('0', 4860), ('4', 4112), ('5', 2359), ('6', 1452), ('10', 972), ('7', 937), ('8', 907), ('12', 519), ('9', 514), ('20', 430), ('11', 360), ('15', 303), ('many', 258), ('25', 246), ('13', 242), ('30', 194), ('14', 175), ('50', 173), ('16', 147), ('100', 133), ('24', 127), ('18', 103), ('17', 82), ('40', 68), ('21', 64), ('200', 63), ('lot', 54), ('2 feet', 51), ('22', 51), ('19', 50), ('one way', 49), ('23', 49), ('27', 48), ('28', 45), ('38', 44), ('35', 42), ('10 feet', 38), ('55', 36), ('3 feet', 36), ('45', 33), ('26', 33), ('29', 31), ('60', 31), ('2010', 29), ('34', 27), ('32', 27), ('10:20', 27)]\n",
      "\n",
      "Type 'other' Top 50 Answers [('white', 8915), ('blue', 5455), ('red', 5201), ('black', 5066), ('brown', 3814), ('green', 3750), ('yellow', 2792), ('gray', 2113), ('nothing', 1814), ('right', 1760), ('frisbee', 1641), ('baseball', 1597), ('left', 1563), ('none', 1562), ('tennis', 1502), ('wood', 1449), ('orange', 1425), ('bathroom', 1230), ('pizza', 1203), ('pink', 1201), ('kitchen', 1093), ('cat', 933), ('dog', 890), ('water', 888), ('man', 885), ('skateboarding', 884), ('grass', 879), ('skiing', 866), ('kite', 793), ('silver', 773), ('black and white', 766), ('surfing', 762), ('horse', 708), ('living room', 702), ('skateboard', 701), ('phone', 697), ('snow', 641), ('wii', 636), ('giraffe', 636), ('woman', 632), ('standing', 627), ('surfboard', 622), ('eating', 607), ('cake', 601), ('food', 599), ('apple', 586), ('sunny', 584), ('broccoli', 572), ('table', 564), ('hat', 557)]\n"
     ]
    }
   ],
   "source": [
    "print(\"Answer Types: \", answer_types)\n",
    "print(\"Answer Type Counts: \", Counter(answertypes2count).most_common())\n",
    "for t in list(answer_types):\n",
    "    print(\"\\nType '%s' Top 50 Answers %s\" %(t, Counter(top_answers_per_type[t]).most_common(50)))"
   ]
  },
  {
   "cell_type": "markdown",
   "metadata": {},
   "source": [
    "#### Answers"
   ]
  },
  {
   "cell_type": "code",
   "execution_count": 13,
   "metadata": {},
   "outputs": [
    {
     "name": "stdout",
     "output_type": "stream",
     "text": [
      "# Unique Answers:  22531\n",
      "\n",
      "Some Answers:  ['boy on right', 'it is moving', 'british', 'airplanes', 'next to laptop', 'barrel', '371-355', 'this 1', 'foggy', '1600 pennsylvania ave', 'holding sandwich together', 'northern', '03/31/2009', 'time warp shelf clock', 'not real', 'who can say', 'elephants and birds', 'dishwasher', 'the tar sands', '599', 'in plane', 'there are no suitcases', 'package', 'hsbc logo', 'del taco', 'dirt on pants', 'apples, blueberries, cherries', 'some are babies', 'william gibson', 'presenting', 'wilson', 'standing in line', '197', 'cereal bowl', 'optare', 'dilbert', 'people drew it', 'moving ski poles', 'bag', 'v', 'crumbs', 'cameraman', '5:03', 'sfsu', 'wwwfeelinggreatcom', 'dirt road', 'will s sider', 'ballard', 'metroline', 'stick', 'most', 'supervisor', 'vines', 'plumber', 'under coffee table', 'sugar packet', 'no stopping or staging', '1:05', 'konnowac', 'irrelevant', 'trick', 'blue, orange, pink', 'picking up pastries', 'blue yellow', 'bus company', 'white pink yellow and red', 'white square next to toilet', '378 234', 'usa and bangladesh', 'a4', 'cut off', 'o', 'tdf', 'drum set', 'oven stick', 'operate dvr', \"it's too shaded\", 'gotten married', 'sheep and cow', 'it is dark', 'go go thomas', 'different coffee', 'next to it', 'pitcher', 'sports car', '4500', 'giant', 'peeling', 'mayah', 'under his knees', 'raspberry and main st', 'oysters', 'sniffing', '12:18', 'something red', 'perfect', 'roger federer', \"it's not\", 'shoulder', \"20's\"]\n",
      "\n",
      "Top 100 Common Answers:  [('yes', 84978), ('no', 82516), ('1', 12540), ('2', 12215), ('white', 8916), ('3', 6536), ('blue', 5455), ('red', 5201), ('black', 5066), ('0', 4977), ('4', 4118), ('brown', 3814), ('green', 3750), ('yellow', 2792), ('5', 2367), ('gray', 2113), ('nothing', 1814), ('right', 1766), ('frisbee', 1641), ('baseball', 1597), ('left', 1565), ('none', 1563), ('tennis', 1502), ('6', 1455), ('wood', 1449), ('orange', 1425), ('bathroom', 1230), ('pizza', 1203), ('pink', 1202), ('kitchen', 1093), ('10', 981), ('7', 938), ('cat', 933), ('8', 911), ('dog', 890), ('water', 888), ('man', 885), ('skateboarding', 884), ('grass', 879), ('skiing', 866), ('kite', 793), ('silver', 773), ('black and white', 766), ('surfing', 762), ('horse', 708), ('living room', 702), ('skateboard', 701), ('phone', 697), ('snow', 641), ('wii', 636), ('giraffe', 636), ('woman', 632), ('standing', 627), ('surfboard', 622), ('eating', 607), ('cake', 601), ('food', 599), ('apple', 586), ('sunny', 584), ('broccoli', 572), ('table', 564), ('hat', 557), ('stop', 556), ('purple', 546), ('laptop', 544), ('elephant', 539), ('12', 527), ('sheep', 520), ('9', 516), ('snowboarding', 510), ('train', 505), ('beach', 497), ('motorcycle', 490), ('soccer', 483), ('banana', 475), ('bus', 474), ('cow', 458), ('male', 455), ('trees', 454), ('walking', 443), ('umbrella', 442), ('winter', 437), ('20', 435), ('wine', 432), ('sitting', 420), ('flowers', 418), ('bear', 417), ('camera', 415), ('female', 413), ('tile', 407), ('metal', 400), ('clear', 400), ('tan', 396), ('many', 384), ('outside', 384), ('brick', 383), ('car', 377), ('plane', 365), ('11', 364), ('sandwich', 361)]\n"
     ]
    }
   ],
   "source": [
    "print(\"# Unique Answers: \", len(multiple_choice_answers))\n",
    "print(\"\\nSome Answers: \", list(np.random.choice(list(multiple_choice_answers), 100)))\n",
    "print(\"\\nTop 100 Common Answers: \", Counter(answer2count).most_common(100))"
   ]
  },
  {
   "cell_type": "markdown",
   "metadata": {},
   "source": [
    "## Dataset Creation"
   ]
  },
  {
   "cell_type": "markdown",
   "metadata": {},
   "source": [
    "The subset will follow the same structure as the original VQA dataset. This is:"
   ]
  },
  {
   "cell_type": "markdown",
   "metadata": {},
   "source": [
    "* Answer\n",
    "    * Question Type\n",
    "    * Majority Answer\n",
    "    * Answer Type\n",
    "    * Answer Candidates\n",
    "        * Given Answer\n",
    "        * Confidence\n",
    "        * Answerer ID\n",
    "        \n",
    "        \n",
    "* Question\n",
    "    * Question\n",
    "    * Image ID\n",
    "   \n",
    "   \n",
    "* Images\n",
    "    * ResNet Image Features (Size: 2048)\n",
    "    "
   ]
  },
  {
   "cell_type": "markdown",
   "metadata": {},
   "source": [
    "In order to train your models on your machine with a CPU (or if you have a GPU), we need to reduce the size of the Dataset. We will reduce the original dataset in the following way:\n",
    "* 20k Q/A of answer type _yes/no_\n",
    "* 20k Q/A of answer type _number_\n",
    "* 20k Q/A of answer type _other_\n",
    "\n",
    "The total number of Q/A will then be 60000. We will divide into training, validation and test split. The ratio between the splits will be approximately: 80%, 15%, 5% respectively."
   ]
  },
  {
   "cell_type": "code",
   "execution_count": 14,
   "metadata": {
    "scrolled": true
   },
   "outputs": [
    {
     "name": "stdout",
     "output_type": "stream",
     "text": [
      "Data Creation Looks good! Time Taken 2.83\n"
     ]
    }
   ],
   "source": [
    "start_time = time()\n",
    "idx = list(range(0,len(qdata['questions'])))\n",
    "random.seed(42)\n",
    "random.shuffle(idx)\n",
    "\n",
    "np.random.seed(42)\n",
    "splits = ['train', 'valid', 'test']\n",
    "\n",
    "n = 20000\n",
    "qdata_small = {'questions': list()}\n",
    "adata_small = {'annotations': list()}\n",
    "a_type_counts = {'yes/no': 0, 'number': 0, 'other': 0}\n",
    "\n",
    "while len(qdata_small['questions']) < 3*n:\n",
    "    i = idx.pop()\n",
    "    \n",
    "    at = adata['annotations'][i]['answer_type'] \n",
    "    \n",
    "    if a_type_counts[at] < n:\n",
    "        \n",
    "        if at == 'yes/no' and adata['annotations'][i]['multiple_choice_answer'] not in ['yes', 'no']:\n",
    "            continue\n",
    "            \n",
    "        adata_small['annotations'].append(adata['annotations'][i])\n",
    "        qdata_small['questions'].append(qdata['questions'][i])\n",
    "        \n",
    "        split = np.random.choice(splits, p=(.8, .15, .05))\n",
    "        adata_small['annotations'][-1]['split'] = split\n",
    "        qdata_small['questions'][-1]['split'] = split\n",
    "        \n",
    "        a_type_counts[at] += 1\n",
    "        \n",
    "# Tests\n",
    "assert len(qdata_small['questions']) == len(adata_small['annotations']) == 3*n, \"Inconsitent Lengths.\"\n",
    "a_type_counts = {'yes/no': 0, 'number': 0, 'other': 0}\n",
    "for ann in adata_small['annotations']:\n",
    "    a_type_counts[ann['answer_type']] += 1\n",
    "assert a_type_counts['yes/no'] == a_type_counts['number'] == a_type_counts['other'] == n, \"Inconsistent Answer Type Lengths.\"\n",
    "\n",
    "print(\"Data Creation Looks good! Time Taken %.2f\" %(time()-start_time))"
   ]
  },
  {
   "cell_type": "markdown",
   "metadata": {},
   "source": [
    "Let's look at some examples to verify this is the same data. Calculating the statistics again."
   ]
  },
  {
   "cell_type": "markdown",
   "metadata": {},
   "source": [
    "#### Annotations Small Dataset"
   ]
  },
  {
   "cell_type": "code",
   "execution_count": 15,
   "metadata": {},
   "outputs": [
    {
     "name": "stdout",
     "output_type": "stream",
     "text": [
      "# Datapoints:  60000\n",
      "\n",
      "Datapoint keys:  dict_keys(['question_type', 'multiple_choice_answer', 'answers', 'image_id', 'answer_type', 'question_id', 'split'])\n",
      "\n",
      "#1:  {'question_type': 'what', 'multiple_choice_answer': 'tea', 'answers': [{'answer': 'brunch', 'answer_confidence': 'maybe', 'answer_id': 1}, {'answer': 'tea', 'answer_confidence': 'yes', 'answer_id': 2}, {'answer': 'tea time', 'answer_confidence': 'yes', 'answer_id': 3}, {'answer': 'brunch', 'answer_confidence': 'yes', 'answer_id': 4}, {'answer': 'breakfast', 'answer_confidence': 'maybe', 'answer_id': 5}, {'answer': 'tea', 'answer_confidence': 'yes', 'answer_id': 6}, {'answer': 'teatime', 'answer_confidence': 'yes', 'answer_id': 7}, {'answer': 'lunch', 'answer_confidence': 'yes', 'answer_id': 8}, {'answer': 'reception', 'answer_confidence': 'maybe', 'answer_id': 9}, {'answer': 'breakfast', 'answer_confidence': 'yes', 'answer_id': 10}], 'image_id': 228478, 'answer_type': 'other', 'question_id': 228478002, 'split': 'train'}\n",
      "\n",
      "#2:  {'question_type': 'is there a', 'multiple_choice_answer': 'yes', 'answers': [{'answer': 'yes', 'answer_confidence': 'yes', 'answer_id': 1}, {'answer': 'yes', 'answer_confidence': 'yes', 'answer_id': 2}, {'answer': 'yes', 'answer_confidence': 'yes', 'answer_id': 3}, {'answer': 'yes', 'answer_confidence': 'yes', 'answer_id': 4}, {'answer': 'yes', 'answer_confidence': 'yes', 'answer_id': 5}, {'answer': 'yes', 'answer_confidence': 'yes', 'answer_id': 6}, {'answer': 'yes', 'answer_confidence': 'yes', 'answer_id': 7}, {'answer': 'yes', 'answer_confidence': 'yes', 'answer_id': 8}, {'answer': 'yes', 'answer_confidence': 'yes', 'answer_id': 9}, {'answer': 'yes', 'answer_confidence': 'yes', 'answer_id': 10}], 'image_id': 540769, 'answer_type': 'yes/no', 'question_id': 540769000, 'split': 'test'}\n",
      "\n",
      "#3:  {'question_type': 'what color is', 'multiple_choice_answer': 'blue', 'answers': [{'answer': 'blue', 'answer_confidence': 'yes', 'answer_id': 1}, {'answer': 'blue', 'answer_confidence': 'yes', 'answer_id': 2}, {'answer': 'blue', 'answer_confidence': 'yes', 'answer_id': 3}, {'answer': 'blue', 'answer_confidence': 'yes', 'answer_id': 4}, {'answer': 'blue', 'answer_confidence': 'yes', 'answer_id': 5}, {'answer': 'blue', 'answer_confidence': 'yes', 'answer_id': 6}, {'answer': 'blue', 'answer_confidence': 'yes', 'answer_id': 7}, {'answer': 'blue', 'answer_confidence': 'yes', 'answer_id': 8}, {'answer': 'blue', 'answer_confidence': 'yes', 'answer_id': 9}, {'answer': 'blue', 'answer_confidence': 'yes', 'answer_id': 10}], 'image_id': 111756, 'answer_type': 'other', 'question_id': 111756005, 'split': 'train'}\n"
     ]
    }
   ],
   "source": [
    "print(\"# Datapoints: \", len(adata_small['annotations']))\n",
    "print(\"\\nDatapoint keys: \", adata_small['annotations'][0].keys())\n",
    "print(\"\\n#1: \", adata_small['annotations'][0])\n",
    "print(\"\\n#2: \", adata_small['annotations'][1])\n",
    "print(\"\\n#3: \", adata_small['annotations'][2])"
   ]
  },
  {
   "cell_type": "markdown",
   "metadata": {},
   "source": [
    "#### Questions Small Dataset"
   ]
  },
  {
   "cell_type": "code",
   "execution_count": 16,
   "metadata": {},
   "outputs": [
    {
     "name": "stdout",
     "output_type": "stream",
     "text": [
      "# Datapoints:  60000\n",
      "\n",
      "Datapoint keys:  dict_keys(['image_id', 'question', 'question_id', 'split'])\n",
      "\n",
      "#1:  {'image_id': 228478, 'question': 'What English meal is this likely for?', 'question_id': 228478002, 'split': 'train'}\n",
      "\n",
      "#2:  {'image_id': 540769, 'question': 'Is there a bell on the train?', 'question_id': 540769000, 'split': 'test'}\n",
      "\n",
      "#3:  {'image_id': 111756, 'question': 'What color is his uniform?', 'question_id': 111756005, 'split': 'train'}\n"
     ]
    }
   ],
   "source": [
    "print(\"# Datapoints: \", len(qdata_small['questions']))\n",
    "print(\"\\nDatapoint keys: \", qdata_small['questions'][0].keys())\n",
    "print(\"\\n#1: \", qdata_small['questions'][0])\n",
    "print(\"\\n#2: \", qdata_small['questions'][1])\n",
    "print(\"\\n#3: \", qdata_small['questions'][2])"
   ]
  },
  {
   "cell_type": "markdown",
   "metadata": {},
   "source": [
    "### Dataset Statistics Small Dataset"
   ]
  },
  {
   "cell_type": "code",
   "execution_count": 17,
   "metadata": {
    "collapsed": true
   },
   "outputs": [],
   "source": [
    "question_types = set()\n",
    "multiple_choice_answers = set()\n",
    "answer2count = defaultdict(int)\n",
    "answer_types = set()\n",
    "answertypes2count = defaultdict(int)\n",
    "top_answers_per_type = defaultdict(lambda: defaultdict(int))\n",
    "for ann in adata_small['annotations']:\n",
    "    question_types.add(ann['question_type'])\n",
    "    \n",
    "    multiple_choice_answers.add(ann['multiple_choice_answer'])\n",
    "    \n",
    "    answer2count[ann['multiple_choice_answer']] += 1\n",
    "    answer_types.add(ann['answer_type'])\n",
    "    \n",
    "    answertypes2count[ann['answer_type']] += 1\n",
    "    top_answers_per_type[ann['answer_type']][ann['multiple_choice_answer']] += 1"
   ]
  },
  {
   "cell_type": "markdown",
   "metadata": {},
   "source": [
    "#### Quesiton Types Small Dataset"
   ]
  },
  {
   "cell_type": "code",
   "execution_count": 18,
   "metadata": {},
   "outputs": [
    {
     "name": "stdout",
     "output_type": "stream",
     "text": [
      "# Unique Question Types:  65\n",
      "{'how many', 'is there a', 'what type of', 'is the person', 'could', 'is there', 'do', 'what is the name', 'what sport is', 'are', 'what kind of', 'what color is the', 'is the man', 'what color are the', 'does the', 'are they', 'is this an', 'what color is', 'are these', 'is it', 'what number is', 'does this', 'where are the', 'who is', 'are the', 'is this person', 'was', 'is he', 'what are', 'why is the', 'what time', 'what is the color of the', 'has', 'are there', 'how many people are', 'is this a', 'where is the', 'is the', 'what is the woman', 'what is in the', 'what are the', 'none of the above', 'which', 'what animal is', 'are there any', 'what room is', 'can you', 'what is', 'is the woman', 'is this', 'what brand', 'why', 'what is the', 'is', 'what does the', 'what is the man', 'how many people are in', 'what', 'what is on the', 'do you', 'is that a', 'what is the person', 'how', 'what is this', 'what color'}\n"
     ]
    }
   ],
   "source": [
    "print(\"# Unique Question Types: \", len(question_types))\n",
    "print(question_types)"
   ]
  },
  {
   "cell_type": "markdown",
   "metadata": {},
   "source": [
    "#### Answer Types Small Dataset"
   ]
  },
  {
   "cell_type": "code",
   "execution_count": 19,
   "metadata": {},
   "outputs": [
    {
     "name": "stdout",
     "output_type": "stream",
     "text": [
      "Answer Types:  {'yes/no', 'number', 'other'}\n",
      "Answer Type Counts:  [('other', 20000), ('yes/no', 20000), ('number', 20000)]\n",
      "\n",
      "Type 'yes/no' Top 50 Answers [('yes', 10178), ('no', 9822)]\n",
      "\n",
      "Type 'number' Top 50 Answers [('1', 4298), ('2', 4281), ('3', 2270), ('0', 1677), ('4', 1382), ('5', 817), ('6', 510), ('8', 337), ('7', 330), ('10', 321), ('12', 190), ('9', 170), ('11', 135), ('20', 134), ('15', 97), ('25', 89), ('13', 87), ('many', 81), ('30', 77), ('14', 61), ('50', 56), ('16', 53), ('24', 52), ('100', 50), ('18', 46), ('17', 35), ('21', 24), ('27', 23), ('200', 23), ('19', 19), ('2 feet', 19), ('40', 19), ('10 feet', 19), ('lot', 17), ('3 feet', 16), ('35', 16), ('22', 16), ('one way', 15), ('5 years', 14), ('23', 14), ('28', 13), ('2012', 12), ('55', 12), ('old', 12), ('38', 12), ('2016', 11), ('12:00', 11), ('10:20', 11), ('29', 10), ('2010', 10)]\n",
      "\n",
      "Type 'other' Top 50 Answers [('white', 823), ('red', 494), ('black', 460), ('blue', 449), ('green', 355), ('brown', 331), ('yellow', 266), ('gray', 190), ('right', 154), ('frisbee', 152), ('nothing', 151), ('left', 144), ('baseball', 134), ('none', 132), ('orange', 130), ('wood', 127), ('tennis', 123), ('pink', 119), ('pizza', 118), ('kitchen', 113), ('bathroom', 106), ('cat', 90), ('water', 86), ('dog', 85), ('skiing', 84), ('grass', 84), ('surfing', 80), ('skateboarding', 78), ('horse', 75), ('black and white', 74), ('kite', 73), ('surfboard', 72), ('silver', 71), ('man', 69), ('living room', 66), ('woman', 65), ('giraffe', 64), ('table', 63), ('wii', 61), ('apple', 58), ('snow', 58), ('phone', 57), ('skateboard', 56), ('hat', 56), ('broccoli', 54), ('snowboarding', 53), ('eating', 53), ('cow', 52), ('standing', 51), ('sunny', 50)]\n"
     ]
    }
   ],
   "source": [
    "print(\"Answer Types: \", answer_types)\n",
    "print(\"Answer Type Counts: \", Counter(answertypes2count).most_common())\n",
    "for t in list(answer_types):\n",
    "    print(\"\\nType '%s' Top 50 Answers %s\" %(t, Counter(top_answers_per_type[t]).most_common(50)))"
   ]
  },
  {
   "cell_type": "markdown",
   "metadata": {},
   "source": [
    "#### Answers Small Dataset"
   ]
  },
  {
   "cell_type": "code",
   "execution_count": 20,
   "metadata": {},
   "outputs": [
    {
     "name": "stdout",
     "output_type": "stream",
     "text": [
      "# Unique Answers:  5691\n",
      "\n",
      "Some Answers:  [\"in man's hand\", 'oak', 'centre ville paris', '400', 'ski lifts', 'get food', '1:00', 'lego', '2 people', 'same event', '15 mph', 'to fence', 'bic', 'food', 'concentrating', 'lagny', '11:18', 'gray and white', 'on paper', 'garuda', 'coffee maker', '488', 'unity', 'each other', 'toiletries', 'on slope', 'identification', 'star', 'hit ball', 'winter', 'mile', 'dress', \"girl's\", 'parked in front of fire hydrant', 'sticks', 'half full', 'just hit ball', '1313', 'ears are up', 'printer', 'top left', '2 inch', 'shirt', 'f', 'traffic cone', '17', 'skull', 'mesh', 'blue and red', 'pizza', 'e canal st', '147', 'lift', 'fdr drive', 'on boat', 'all stars', '12 hours', 'tissue', 'grapes', 'on tree', 'not finished', 'chef', 'camera', 'hexagon', 'fireworks', '100', 'hearts', '4051', '5135', 'on top', 'blues brothers', 'microwave', 'joanne', 'rough', 'elephants', 'in white', '1932', 'f8 246', '28', 'trek', 'gnu', 'speaker', 'ear tags', 'downtown', 'lilies', '482', 'solid', 'partial', 'cross', 'on paper', 'af 82 444', '7345', '106', 'here', 'spatula', 'surfers', 'holding knife', 'liberte egalite fraternite', 'royals', 'gas 50 54']\n",
      "\n",
      "Top 100 Common Answers:  [('yes', 10207), ('no', 9845), ('1', 4300), ('2', 4281), ('3', 2270), ('0', 1690), ('4', 1382), ('white', 823), ('5', 818), ('6', 510), ('red', 494), ('black', 460), ('blue', 449), ('green', 355), ('8', 337), ('brown', 331), ('7', 330), ('10', 323), ('yellow', 266), ('12', 192), ('gray', 190), ('9', 170), ('right', 156), ('frisbee', 152), ('nothing', 151), ('left', 144), ('11', 135), ('20', 135), ('baseball', 134), ('none', 132), ('orange', 130), ('wood', 127), ('tennis', 123), ('pink', 119), ('pizza', 118), ('kitchen', 113), ('bathroom', 106), ('15', 97), ('many', 96), ('cat', 90), ('25', 90), ('13', 87), ('water', 86), ('dog', 85), ('skiing', 84), ('grass', 84), ('surfing', 80), ('skateboarding', 78), ('30', 77), ('horse', 75), ('black and white', 74), ('kite', 73), ('surfboard', 72), ('silver', 71), ('man', 69), ('living room', 66), ('woman', 65), ('giraffe', 64), ('table', 63), ('wii', 61), ('14', 61), ('apple', 58), ('snow', 58), ('phone', 57), ('skateboard', 56), ('hat', 56), ('50', 56), ('broccoli', 54), ('16', 53), ('snowboarding', 53), ('eating', 53), ('24', 52), ('cow', 52), ('standing', 51), ('sunny', 50), ('beach', 50), ('elephant', 50), ('laptop', 50), ('purple', 50), ('100', 50), ('food', 49), ('18', 47), ('soccer', 47), ('cake', 47), ('motorcycle', 45), ('winter', 45), ('flowers', 45), ('walking', 45), ('bus', 45), ('stop', 45), ('tile', 45), ('male', 43), ('train', 43), ('trees', 43), ('tan', 42), ('sheep', 42), ('camera', 41), ('bear', 40), ('metal', 38), ('kites', 38)]\n"
     ]
    }
   ],
   "source": [
    "print(\"# Unique Answers: \", len(multiple_choice_answers))\n",
    "print(\"\\nSome Answers: \", list(np.random.choice(list(multiple_choice_answers), 100)))\n",
    "print(\"\\nTop 100 Common Answers: \", Counter(answer2count).most_common(100))"
   ]
  },
  {
   "cell_type": "markdown",
   "metadata": {},
   "source": [
    "## Saving"
   ]
  },
  {
   "cell_type": "code",
   "execution_count": 21,
   "metadata": {
    "collapsed": true
   },
   "outputs": [],
   "source": [
    "import gzip"
   ]
  },
  {
   "cell_type": "markdown",
   "metadata": {},
   "source": [
    "### Splitting"
   ]
  },
  {
   "cell_type": "code",
   "execution_count": 22,
   "metadata": {},
   "outputs": [
    {
     "name": "stdout",
     "output_type": "stream",
     "text": [
      "Training Set Size: 48061\n",
      "\n",
      "Validation Set Size: 8977\n",
      "\n",
      "Test Set Size: 2962\n"
     ]
    }
   ],
   "source": [
    "qdata_small_splits = {\\\n",
    "                      'train': {'questions': list()}, \n",
    "                      'valid': {'questions': list()}, \n",
    "                      'test': {'questions': list()}\n",
    "                     }\n",
    "\n",
    "adata_small_splits = {\\\n",
    "                      'train': {'annotations': list()}, \n",
    "                      'valid': {'annotations': list()}, \n",
    "                      'test': {'annotations': list()}\n",
    "                     }\n",
    "\n",
    "for i in range(len(qdata_small['questions'])):\n",
    "    \n",
    "    split = qdata_small['questions'][i]['split']\n",
    "    assert split == adata_small['annotations'][i]['split'], \"Inconsistent Splits.\"\n",
    "    assert adata_small['annotations'][i]['question_id'] == qdata_small['questions'][i]['question_id'], \"Inconsistent IDs.\"\n",
    "    \n",
    "    qdata_small_splits[split]['questions'].append(qdata_small['questions'][i])\n",
    "    adata_small_splits[split]['annotations'].append(adata_small['annotations'][i])\n",
    "    \n",
    "        \n",
    "print(\"Training Set Size: %i\" %(len(qdata_small_splits['train']['questions'])))\n",
    "print(\"\\nValidation Set Size: %i\" %(len(qdata_small_splits['valid']['questions'])))\n",
    "print(\"\\nTest Set Size: %i\" %(len(qdata_small_splits['test']['questions'])))"
   ]
  },
  {
   "cell_type": "markdown",
   "metadata": {},
   "source": [
    "### Write out the files"
   ]
  },
  {
   "cell_type": "code",
   "execution_count": 23,
   "metadata": {
    "collapsed": true
   },
   "outputs": [],
   "source": [
    "for split in ['train', 'valid', 'test']:\n",
    "    \n",
    "    with gzip.GzipFile('data/vqa_annotatons_' + split + '.gzip', 'w') as file:\n",
    "        file.write(json.dumps(adata_small_splits[split]).encode('utf-8'))\n",
    "        \n",
    "    with gzip.GzipFile('data/vqa_questions_' + split + '.gzip', 'w') as file:\n",
    "        file.write(json.dumps(qdata_small_splits[split]).encode('utf-8'))"
   ]
  },
  {
   "cell_type": "markdown",
   "metadata": {},
   "source": [
    "Get list of all image ids"
   ]
  },
  {
   "cell_type": "code",
   "execution_count": 24,
   "metadata": {
    "collapsed": true
   },
   "outputs": [],
   "source": [
    "image_ids = set()\n",
    "for q in qdata_small['questions']:\n",
    "    image_ids.add(q['image_id'])\n",
    "\n",
    "image_ids_json = {'image_ids': list(image_ids)}\n",
    "with open('data/image_ids_vqa.json', 'w') as file:\n",
    "    json.dump(image_ids_json, file)"
   ]
  }
 ],
 "metadata": {
  "kernelspec": {
   "display_name": "Python 3",
   "language": "python",
   "name": "python3"
  }
 },
 "nbformat": 4,
 "nbformat_minor": 2
}
